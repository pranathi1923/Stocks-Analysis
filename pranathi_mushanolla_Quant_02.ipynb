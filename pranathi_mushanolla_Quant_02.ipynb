{
  "nbformat": 4,
  "nbformat_minor": 0,
  "metadata": {
    "colab": {
      "name": "pranathi_mushanolla_Quant_02",
      "provenance": [],
      "authorship_tag": "ABX9TyPytvBWgL+sRQbGIjc4hrRo",
      "include_colab_link": true
    },
    "kernelspec": {
      "name": "python3",
      "display_name": "Python 3"
    }
  },
  "cells": [
    {
      "cell_type": "markdown",
      "metadata": {
        "id": "view-in-github",
        "colab_type": "text"
      },
      "source": [
        "<a href=\"https://colab.research.google.com/github/pranathi1923/Stocks-Analysis/blob/main/pranathi_mushanolla_Quant_02.ipynb\" target=\"_parent\"><img src=\"https://colab.research.google.com/assets/colab-badge.svg\" alt=\"Open In Colab\"/></a>"
      ]
    },
    {
      "cell_type": "code",
      "metadata": {
        "id": "PLQBBRL_dkdo"
      },
      "source": [
        "from pandas_datareader import data as web\n",
        "import pandas as pd\n",
        "import numpy as np\n",
        "from datetime import datetime\n",
        "import matplotlib.pyplot as plt\n",
        "plt.style.use('fivethirtyeight')\n"
      ],
      "execution_count": null,
      "outputs": []
    },
    {
      "cell_type": "code",
      "metadata": {
        "id": "dd3OvH21fXHa",
        "colab": {
          "base_uri": "https://localhost:8080/",
          "height": 428
        },
        "outputId": "f35ea07b-1a5a-4517-8e72-85d746fea0ce"
      },
      "source": [
        "assets =  [\"FB\", \"AMZN\", \"NFLX\", \"GOOG\",\"TSLA\"]\n",
        "StartDate = '2019-02-01'\n",
        "EndDate = datetime.today().strftime('2020-01-31')\n",
        "df = pd.DataFrame()\n",
        "for stock in assets:\n",
        "   df[stock] = web.DataReader(stock,data_source='yahoo',start=StartDate , end=EndDate)['Adj Close']\n",
        "df"
      ],
      "execution_count": null,
      "outputs": [
        {
          "output_type": "execute_result",
          "data": {
            "text/html": [
              "<div>\n",
              "<style scoped>\n",
              "    .dataframe tbody tr th:only-of-type {\n",
              "        vertical-align: middle;\n",
              "    }\n",
              "\n",
              "    .dataframe tbody tr th {\n",
              "        vertical-align: top;\n",
              "    }\n",
              "\n",
              "    .dataframe thead th {\n",
              "        text-align: right;\n",
              "    }\n",
              "</style>\n",
              "<table border=\"1\" class=\"dataframe\">\n",
              "  <thead>\n",
              "    <tr style=\"text-align: right;\">\n",
              "      <th></th>\n",
              "      <th>FB</th>\n",
              "      <th>AMZN</th>\n",
              "      <th>NFLX</th>\n",
              "      <th>GOOG</th>\n",
              "      <th>TSLA</th>\n",
              "    </tr>\n",
              "    <tr>\n",
              "      <th>Date</th>\n",
              "      <th></th>\n",
              "      <th></th>\n",
              "      <th></th>\n",
              "      <th></th>\n",
              "      <th></th>\n",
              "    </tr>\n",
              "  </thead>\n",
              "  <tbody>\n",
              "    <tr>\n",
              "      <th>2019-02-01</th>\n",
              "      <td>165.710007</td>\n",
              "      <td>1626.229980</td>\n",
              "      <td>339.850006</td>\n",
              "      <td>1110.750000</td>\n",
              "      <td>312.209991</td>\n",
              "    </tr>\n",
              "    <tr>\n",
              "      <th>2019-02-04</th>\n",
              "      <td>169.250000</td>\n",
              "      <td>1633.310059</td>\n",
              "      <td>351.339996</td>\n",
              "      <td>1132.800049</td>\n",
              "      <td>312.890015</td>\n",
              "    </tr>\n",
              "    <tr>\n",
              "      <th>2019-02-05</th>\n",
              "      <td>171.160004</td>\n",
              "      <td>1658.810059</td>\n",
              "      <td>355.809998</td>\n",
              "      <td>1145.989990</td>\n",
              "      <td>321.350006</td>\n",
              "    </tr>\n",
              "    <tr>\n",
              "      <th>2019-02-06</th>\n",
              "      <td>170.490005</td>\n",
              "      <td>1640.260010</td>\n",
              "      <td>352.190002</td>\n",
              "      <td>1115.229980</td>\n",
              "      <td>317.220001</td>\n",
              "    </tr>\n",
              "    <tr>\n",
              "      <th>2019-02-07</th>\n",
              "      <td>166.380005</td>\n",
              "      <td>1614.369995</td>\n",
              "      <td>344.709991</td>\n",
              "      <td>1098.709961</td>\n",
              "      <td>307.510010</td>\n",
              "    </tr>\n",
              "    <tr>\n",
              "      <th>...</th>\n",
              "      <td>...</td>\n",
              "      <td>...</td>\n",
              "      <td>...</td>\n",
              "      <td>...</td>\n",
              "      <td>...</td>\n",
              "    </tr>\n",
              "    <tr>\n",
              "      <th>2020-01-27</th>\n",
              "      <td>214.869995</td>\n",
              "      <td>1828.339966</td>\n",
              "      <td>342.880005</td>\n",
              "      <td>1433.900024</td>\n",
              "      <td>558.020020</td>\n",
              "    </tr>\n",
              "    <tr>\n",
              "      <th>2020-01-28</th>\n",
              "      <td>217.789993</td>\n",
              "      <td>1853.250000</td>\n",
              "      <td>348.519989</td>\n",
              "      <td>1452.560059</td>\n",
              "      <td>566.900024</td>\n",
              "    </tr>\n",
              "    <tr>\n",
              "      <th>2020-01-29</th>\n",
              "      <td>223.229996</td>\n",
              "      <td>1858.000000</td>\n",
              "      <td>343.160004</td>\n",
              "      <td>1458.630005</td>\n",
              "      <td>580.989990</td>\n",
              "    </tr>\n",
              "    <tr>\n",
              "      <th>2020-01-30</th>\n",
              "      <td>209.529999</td>\n",
              "      <td>1870.680054</td>\n",
              "      <td>347.739990</td>\n",
              "      <td>1455.839966</td>\n",
              "      <td>640.809998</td>\n",
              "    </tr>\n",
              "    <tr>\n",
              "      <th>2020-01-31</th>\n",
              "      <td>201.910004</td>\n",
              "      <td>2008.719971</td>\n",
              "      <td>345.089996</td>\n",
              "      <td>1434.229980</td>\n",
              "      <td>650.570007</td>\n",
              "    </tr>\n",
              "  </tbody>\n",
              "</table>\n",
              "<p>252 rows × 5 columns</p>\n",
              "</div>"
            ],
            "text/plain": [
              "                    FB         AMZN        NFLX         GOOG        TSLA\n",
              "Date                                                                    \n",
              "2019-02-01  165.710007  1626.229980  339.850006  1110.750000  312.209991\n",
              "2019-02-04  169.250000  1633.310059  351.339996  1132.800049  312.890015\n",
              "2019-02-05  171.160004  1658.810059  355.809998  1145.989990  321.350006\n",
              "2019-02-06  170.490005  1640.260010  352.190002  1115.229980  317.220001\n",
              "2019-02-07  166.380005  1614.369995  344.709991  1098.709961  307.510010\n",
              "...                ...          ...         ...          ...         ...\n",
              "2020-01-27  214.869995  1828.339966  342.880005  1433.900024  558.020020\n",
              "2020-01-28  217.789993  1853.250000  348.519989  1452.560059  566.900024\n",
              "2020-01-29  223.229996  1858.000000  343.160004  1458.630005  580.989990\n",
              "2020-01-30  209.529999  1870.680054  347.739990  1455.839966  640.809998\n",
              "2020-01-31  201.910004  2008.719971  345.089996  1434.229980  650.570007\n",
              "\n",
              "[252 rows x 5 columns]"
            ]
          },
          "metadata": {
            "tags": []
          },
          "execution_count": 3
        }
      ]
    },
    {
      "cell_type": "code",
      "metadata": {
        "id": "9_D3me56gfhg",
        "colab": {
          "base_uri": "https://localhost:8080/",
          "height": 428
        },
        "outputId": "b3b22804-111c-4caa-e20c-6ff80a8d4c4c"
      },
      "source": [
        "returns = df.pct_change()\n",
        "returns"
      ],
      "execution_count": null,
      "outputs": [
        {
          "output_type": "execute_result",
          "data": {
            "text/html": [
              "<div>\n",
              "<style scoped>\n",
              "    .dataframe tbody tr th:only-of-type {\n",
              "        vertical-align: middle;\n",
              "    }\n",
              "\n",
              "    .dataframe tbody tr th {\n",
              "        vertical-align: top;\n",
              "    }\n",
              "\n",
              "    .dataframe thead th {\n",
              "        text-align: right;\n",
              "    }\n",
              "</style>\n",
              "<table border=\"1\" class=\"dataframe\">\n",
              "  <thead>\n",
              "    <tr style=\"text-align: right;\">\n",
              "      <th></th>\n",
              "      <th>FB</th>\n",
              "      <th>AMZN</th>\n",
              "      <th>NFLX</th>\n",
              "      <th>GOOG</th>\n",
              "      <th>TSLA</th>\n",
              "    </tr>\n",
              "    <tr>\n",
              "      <th>Date</th>\n",
              "      <th></th>\n",
              "      <th></th>\n",
              "      <th></th>\n",
              "      <th></th>\n",
              "      <th></th>\n",
              "    </tr>\n",
              "  </thead>\n",
              "  <tbody>\n",
              "    <tr>\n",
              "      <th>2019-02-01</th>\n",
              "      <td>NaN</td>\n",
              "      <td>NaN</td>\n",
              "      <td>NaN</td>\n",
              "      <td>NaN</td>\n",
              "      <td>NaN</td>\n",
              "    </tr>\n",
              "    <tr>\n",
              "      <th>2019-02-04</th>\n",
              "      <td>0.021363</td>\n",
              "      <td>0.004354</td>\n",
              "      <td>0.033809</td>\n",
              "      <td>0.019851</td>\n",
              "      <td>0.002178</td>\n",
              "    </tr>\n",
              "    <tr>\n",
              "      <th>2019-02-05</th>\n",
              "      <td>0.011285</td>\n",
              "      <td>0.015612</td>\n",
              "      <td>0.012723</td>\n",
              "      <td>0.011644</td>\n",
              "      <td>0.027038</td>\n",
              "    </tr>\n",
              "    <tr>\n",
              "      <th>2019-02-06</th>\n",
              "      <td>-0.003914</td>\n",
              "      <td>-0.011183</td>\n",
              "      <td>-0.010174</td>\n",
              "      <td>-0.026841</td>\n",
              "      <td>-0.012852</td>\n",
              "    </tr>\n",
              "    <tr>\n",
              "      <th>2019-02-07</th>\n",
              "      <td>-0.024107</td>\n",
              "      <td>-0.015784</td>\n",
              "      <td>-0.021239</td>\n",
              "      <td>-0.014813</td>\n",
              "      <td>-0.030610</td>\n",
              "    </tr>\n",
              "    <tr>\n",
              "      <th>...</th>\n",
              "      <td>...</td>\n",
              "      <td>...</td>\n",
              "      <td>...</td>\n",
              "      <td>...</td>\n",
              "      <td>...</td>\n",
              "    </tr>\n",
              "    <tr>\n",
              "      <th>2020-01-27</th>\n",
              "      <td>-0.014086</td>\n",
              "      <td>-0.017887</td>\n",
              "      <td>-0.029109</td>\n",
              "      <td>-0.022370</td>\n",
              "      <td>-0.012039</td>\n",
              "    </tr>\n",
              "    <tr>\n",
              "      <th>2020-01-28</th>\n",
              "      <td>0.013590</td>\n",
              "      <td>0.013624</td>\n",
              "      <td>0.016449</td>\n",
              "      <td>0.013013</td>\n",
              "      <td>0.015913</td>\n",
              "    </tr>\n",
              "    <tr>\n",
              "      <th>2020-01-29</th>\n",
              "      <td>0.024978</td>\n",
              "      <td>0.002563</td>\n",
              "      <td>-0.015379</td>\n",
              "      <td>0.004179</td>\n",
              "      <td>0.024854</td>\n",
              "    </tr>\n",
              "    <tr>\n",
              "      <th>2020-01-30</th>\n",
              "      <td>-0.061372</td>\n",
              "      <td>0.006825</td>\n",
              "      <td>0.013347</td>\n",
              "      <td>-0.001913</td>\n",
              "      <td>0.102962</td>\n",
              "    </tr>\n",
              "    <tr>\n",
              "      <th>2020-01-31</th>\n",
              "      <td>-0.036367</td>\n",
              "      <td>0.073791</td>\n",
              "      <td>-0.007621</td>\n",
              "      <td>-0.014844</td>\n",
              "      <td>0.015231</td>\n",
              "    </tr>\n",
              "  </tbody>\n",
              "</table>\n",
              "<p>252 rows × 5 columns</p>\n",
              "</div>"
            ],
            "text/plain": [
              "                  FB      AMZN      NFLX      GOOG      TSLA\n",
              "Date                                                        \n",
              "2019-02-01       NaN       NaN       NaN       NaN       NaN\n",
              "2019-02-04  0.021363  0.004354  0.033809  0.019851  0.002178\n",
              "2019-02-05  0.011285  0.015612  0.012723  0.011644  0.027038\n",
              "2019-02-06 -0.003914 -0.011183 -0.010174 -0.026841 -0.012852\n",
              "2019-02-07 -0.024107 -0.015784 -0.021239 -0.014813 -0.030610\n",
              "...              ...       ...       ...       ...       ...\n",
              "2020-01-27 -0.014086 -0.017887 -0.029109 -0.022370 -0.012039\n",
              "2020-01-28  0.013590  0.013624  0.016449  0.013013  0.015913\n",
              "2020-01-29  0.024978  0.002563 -0.015379  0.004179  0.024854\n",
              "2020-01-30 -0.061372  0.006825  0.013347 -0.001913  0.102962\n",
              "2020-01-31 -0.036367  0.073791 -0.007621 -0.014844  0.015231\n",
              "\n",
              "[252 rows x 5 columns]"
            ]
          },
          "metadata": {
            "tags": []
          },
          "execution_count": 4
        }
      ]
    },
    {
      "cell_type": "code",
      "metadata": {
        "id": "_dZ7g2Lfg1_X"
      },
      "source": [
        "pip install PyPortfolioOpt"
      ],
      "execution_count": null,
      "outputs": []
    },
    {
      "cell_type": "code",
      "metadata": {
        "id": "3IqKpWi9KQSW"
      },
      "source": [
        "from pypfopt.efficient_frontier import EfficientFrontier\n",
        "from pypfopt import risk_models\n",
        "from pypfopt import expected_returns"
      ],
      "execution_count": null,
      "outputs": []
    },
    {
      "cell_type": "code",
      "metadata": {
        "id": "-n0vM7gjKXQs",
        "colab": {
          "base_uri": "https://localhost:8080/",
          "height": 106
        },
        "outputId": "837f7438-fcaa-43ba-d640-c6ac40a8dc3b"
      },
      "source": [
        "mean_returns = expected_returns.mean_historical_return(df)\n",
        "covariance_matrix= risk_models.sample_cov(df)\n",
        "ef = EfficientFrontier(mean_returns, covariance_matrix)\n",
        "weights = ef.max_sharpe()\n",
        "cleaned_weights = ef.clean_weights() \n",
        "print(cleaned_weights) \n",
        "ef.portfolio_performance(verbose=True)"
      ],
      "execution_count": null,
      "outputs": [
        {
          "output_type": "stream",
          "text": [
            "OrderedDict([('FB', 0.05028), ('AMZN', 0.15222), ('NFLX', 0.0), ('GOOG', 0.38429), ('TSLA', 0.41322)])\n",
            "Expected annual return: 51.1%\n",
            "Annual volatility: 26.0%\n",
            "Sharpe Ratio: 1.89\n"
          ],
          "name": "stdout"
        },
        {
          "output_type": "execute_result",
          "data": {
            "text/plain": [
              "(0.5108798753380944, 0.2601752979876561, 1.88672744543713)"
            ]
          },
          "metadata": {
            "tags": []
          },
          "execution_count": 7
        }
      ]
    },
    {
      "cell_type": "markdown",
      "metadata": {
        "id": "RAeD7JTS0cos"
      },
      "source": [
        "**HOW DID YOU CHOOSE STOCKS ?**\n",
        "\n",
        "I have picked these 5 stocks randomly. But generally we should consider these seven factors while choosing a stock.\n",
        "\n",
        "**1.Earning Growth** If there is a general increase in their earnings then its a positive indication.\n",
        "\n",
        "**2.Stability** We have to consider the long term stability instead of day to day or month to month stability.\n",
        "\n",
        "**3.Relative Strength In The Industry** We have to see if the company is well placed against competitors and its future potential.\n",
        "\n",
        "**4.Debt-Equity Ratio** in order to have lower risks we should pick a company whose Debtequity Ratio is not more than 0.3.\n",
        "\n",
        "**5.Price-Earnings Ratio** The higher the P/E ratio, the more likely it is that there will be significant growth in the future. P/E ratio isn’t everything when investing, but it can be helpful to compare companies in the same industry or sector.\n",
        "\n",
        "**6.Management** A well-managed company is often one that enjoys stock prices that trend higher. Take into account scandal as well. A company with staying power can weather short-term scandals – especially if a leadership change prompts forward momentum. It’s hard to gauge the outcome of a scandal, but buying during a dip can garner you a good deal and position your investing portfolio for future success.\n",
        "\n",
        "**7.Dividends** A company that pays dividends is often one with a degree of stability High dividends can also sometimes be an indication that a company isn’t investing enough in itself.companies that pay modest, but regular (and increasing) dividends over time are preferable.\n"
      ]
    },
    {
      "cell_type": "markdown",
      "metadata": {
        "id": "kW-WeqG_920B"
      },
      "source": [
        "**WHAT IS THE IMPACT OF INCREASING THE NUMBER OF STOCKS IN THE PORTFOLIO ?**\n",
        "\n",
        "**1.Minimizing Risk**\n",
        "\n",
        " The more stocks you hold in your portfolio, the lesser is the risk that you are carrying. As they say there is safety in numbers. Chances of any one company going out of business and stock value going to near zero value is always there, but larger the number of stocks you carry in your portfolio, the impact of such accidents on your overall returns gets minimised.\n",
        "\n",
        " **2.Probability for Return Expectations will decrease**\n",
        "\n",
        " Return probability usually keeps going down as the number of stocks increase. Here the reverse logic of risk usually applies. Impact of any high-return stock or stocks on the overall portfolio performance keeps going down as the number of stocks go higher. So, the higher the return expectations, the lower should be the diversification."
      ]
    },
    {
      "cell_type": "markdown",
      "metadata": {
        "id": "WBvSlznN6-3E"
      },
      "source": [
        "**WHY ARE WE CALCULATING THE WEIGHTS BY OPTIMIZATION AND NOT GIVING EQUAL WEIGHTAGE TO EVERY STOCK ?**\n",
        "\n",
        "changing the weight of each stock in the portfolio can have a dramatic effect on the expected return and level of risk the investor is exposed to.we must be very thoughtful when choosing how much weight each of our stocks in our portfolio should carry.\n",
        "\n"
      ]
    },
    {
      "cell_type": "markdown",
      "metadata": {
        "id": "3GgH56EG_a_Z"
      },
      "source": [
        "**WHICH OPTIMIZATION TECHNIQUES ARE USED BY MUTUAL FUNDS CURRENTLY?**\n",
        "\n",
        "Mean-variance optimization.\n",
        "\n"
      ]
    }
  ]
}